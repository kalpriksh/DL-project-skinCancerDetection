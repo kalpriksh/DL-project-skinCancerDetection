{
 "cells": [
  {
   "cell_type": "code",
   "execution_count": 1,
   "metadata": {},
   "outputs": [],
   "source": [
    "%config IPCompleter.greedy=True"
   ]
  },
  {
   "cell_type": "code",
   "execution_count": 3,
   "metadata": {},
   "outputs": [
    {
     "name": "stderr",
     "output_type": "stream",
     "text": [
      "Matplotlib is building the font cache using fc-list. This may take a moment.\n"
     ]
    }
   ],
   "source": [
    "\n",
    "import os\n",
    "import matplotlib.pyplot as plt                        \n",
    "import numpy as np\n",
    "\n",
    "from PIL import ImageFile\n",
    "ImageFile.LOAD_TRUNCATED_IMAGES = True\n",
    "from PIL import Image\n",
    "\n",
    "import torch\n",
    "import torchvision.models as models\n",
    "import torchvision.transforms as transforms\n",
    "from torchvision import datasets\n",
    "import torch.nn as nn\n",
    "import torch.optim as optim"
   ]
  },
  {
   "cell_type": "code",
   "execution_count": 4,
   "metadata": {},
   "outputs": [],
   "source": [
    "\n",
    "\n",
    "def myloader(filename):\n",
    "    return Image.open(filename).convert('RGB')\n",
    "\n",
    "standard_normalization = transforms.Normalize(mean=[0.485, 0.456, 0.406],\n",
    "                                              std=[0.229, 0.224, 0.225])\n",
    "train_transform = transforms.Compose([\n",
    "                        transforms.RandomResizedCrop(224),\n",
    "                        transforms.RandomHorizontalFlip(),\n",
    "                        transforms.RandomRotation(10),\n",
    "                        transforms.ToTensor(),\n",
    "                        standard_normalization\n",
    "                        ])\n",
    "\n",
    "\n",
    "valid_transform = transforms.Compose([\n",
    "                        transforms.Resize(256),\n",
    "                        transforms.CenterCrop(224),\n",
    "                        transforms.ToTensor(),\n",
    "                        standard_normalization\n",
    "                        ])\n",
    "\n",
    "\n",
    "test_transform = transforms.Compose([\n",
    "                        transforms.Resize(224,224),\n",
    "                        transforms.ToTensor(),\n",
    "                        standard_normalization\n",
    "                        ])\n",
    "\n",
    "batch_size = 20\n",
    "\n",
    "image_test = datasets.ImageFolder('../data/test',transform = test_transform,loader=myloader)\n",
    "test = torch.utils.data.DataLoader(dataset=image_test, batch_size=batch_size)\n",
    "\n",
    "image_valid = datasets.ImageFolder('../data/valid',transform = valid_transform,loader=myloader)\n",
    "valid = torch.utils.data.DataLoader(dataset=image_valid, batch_size=batch_size)\n",
    "\n",
    "image_train = datasets.ImageFolder('../data/train',transform = train_transform, loader=myloader)\n",
    "train = torch.utils.data.DataLoader(dataset=image_train,batch_size=batch_size ,shuffle=True)\n",
    "\n",
    "loaders = {'test':test,'valid':valid,'train':train}\n",
    "\n"
   ]
  },
  {
   "cell_type": "code",
   "execution_count": 5,
   "metadata": {},
   "outputs": [
    {
     "name": "stderr",
     "output_type": "stream",
     "text": [
      "Downloading: \"https://download.pytorch.org/models/resnet18-5c106cde.pth\" to /root/.cache/torch/checkpoints/resnet18-5c106cde.pth\n",
      "52.5%IOPub message rate exceeded.\n",
      "The notebook server will temporarily stop sending output\n",
      "to the client in order to avoid crashing it.\n",
      "To change this limit, set the config variable\n",
      "`--NotebookApp.iopub_msg_rate_limit`.\n",
      "\n",
      "Current values:\n",
      "NotebookApp.iopub_msg_rate_limit=1000.0 (msgs/sec)\n",
      "NotebookApp.rate_limit_window=3.0 (secs)\n",
      "\n",
      "100.0%\n"
     ]
    }
   ],
   "source": [
    "## model architecture resnet18 used \n",
    "model = models.resnet18(pretrained=True)"
   ]
  },
  {
   "cell_type": "code",
   "execution_count": 6,
   "metadata": {},
   "outputs": [],
   "source": [
    "# freezing the parameters for the model\n",
    "# prevents the training the model parameters\n",
    "for param in model.parameters():\n",
    "    param.requires_grad = False\n",
    "\n",
    "# creating a new classifier\n",
    "classifier = nn.Sequential(\n",
    "                            nn.Linear(512,200),\n",
    "                            nn.ReLU(),\n",
    "                            nn.Dropout(0.3),\n",
    "                            nn.Linear(200,100),\n",
    "                            nn.ReLU(),\n",
    "                            nn.Dropout(0.3),\n",
    "                            nn.Linear(100,3))\n",
    "\n",
    "# replacing model classifier\n",
    "model.fc = classifier"
   ]
  },
  {
   "cell_type": "code",
   "execution_count": 7,
   "metadata": {},
   "outputs": [],
   "source": [
    "# defining loss function and optimizer\n",
    "optimizer = optim.SGD(model.fc.parameters(), lr = 0.3)\n",
    "criterion = nn.CrossEntropyLoss()"
   ]
  },
  {
   "cell_type": "code",
   "execution_count": 9,
   "metadata": {},
   "outputs": [
    {
     "name": "stdout",
     "output_type": "stream",
     "text": [
      "cuda enabled\n"
     ]
    }
   ],
   "source": [
    "# using cuda: transfering model to CUDA for training\n",
    "use_cuda = torch.cuda.is_available()\n",
    "if use_cuda:\n",
    "    print('cuda enabled')\n",
    "    model = model.cuda()"
   ]
  },
  {
   "cell_type": "code",
   "execution_count": 10,
   "metadata": {},
   "outputs": [],
   "source": [
    "def train(epochs,model,loaders,optimizer,criterion,use_cuda,save_path):\n",
    "    min_valid_loss = np.Inf\n",
    "    \n",
    "    for epoch in range(epochs):\n",
    "        train_loss = 0.0\n",
    "        valid_loss = 0.0\n",
    "        \n",
    "        model.train()\n",
    "        for batch_idx,(data,target) in enumerate(loaders['train']):\n",
    "            \n",
    "            optimizer.zero_grad()\n",
    "            if use_cuda:\n",
    "                data, target = data.cuda(), target.cuda()\n",
    "            \n",
    "            output = model.forward(data)\n",
    "            loss = criterion(output, target)\n",
    "            \n",
    "            loss.backward()\n",
    "            \n",
    "            optimizer.step()\n",
    "            \n",
    "            # checks\n",
    "            if batch_idx == 0:\n",
    "                print(loss.data)\n",
    "                print(train_loss)\n",
    "            \n",
    "            train_loss = train_loss + ((1 / (batch_idx + 1)) * (loss.data - train_loss))\n",
    "            \n",
    "            if batch_idx % 100 == 0:\n",
    "                print(f\"for epoch:{epoch} batch({batch_idx + 1})....train loss = {train_loss}:.6f\")\n",
    "        \n",
    "        model.eval()\n",
    "        for batch_idx,(data,target) in enumerate(loaders['valid']):\n",
    "            \n",
    "            if use_cuda:\n",
    "                data, target = data.cuda(), target.cuda()\n",
    "                \n",
    "            output = model(data)\n",
    "            loss = criterion(output,target)\n",
    "\n",
    "            valid_loss = valid_loss + ((1 / (batch_idx + 1)) * (loss.data - valid_loss))\n",
    "        \n",
    "        \n",
    "        # print training/validation statistics \n",
    "        print('Epoch: {} \\tTraining Loss: {:.6f} \\tValidation Loss: {:.6f}'.format(\n",
    "            epoch, \n",
    "            train_loss,\n",
    "            valid_loss\n",
    "            ))\n",
    "        \n",
    "        # saving model in case the validation loss decreases\n",
    "        if(valid_loss < min_valid_loss):\n",
    "            print('Validation loss decreased ({:.6f} --> {:.6f}).  Saving model ...'.format(\n",
    "            min_valid_loss,\n",
    "            valid_loss))\n",
    "            \n",
    "            torch.save(model.state_dict(),save_path)\n",
    "            min_valid_loss = valid_loss\n",
    "    \n",
    "    return model"
   ]
  },
  {
   "cell_type": "code",
   "execution_count": null,
   "metadata": {},
   "outputs": [
    {
     "name": "stdout",
     "output_type": "stream",
     "text": [
      "tensor(1.1405, device='cuda:0')\n",
      "0.0\n",
      "for epoch:0 batch(1)....train loss = 1.1404982805252075:.6f\n",
      "Epoch: 0 \tTraining Loss: 0.862800 \tValidation Loss: 1.081882\n",
      "Validation loss decreased (inf --> 1.081882).  Saving model ...\n",
      "tensor(0.7600, device='cuda:0')\n",
      "0.0\n",
      "for epoch:1 batch(1)....train loss = 0.7599705457687378:.6f\n"
     ]
    }
   ],
   "source": [
    "model = train(20,model,loaders,optimizer,criterion,use_cuda,'model_scratch.pt')"
   ]
  },
  {
   "cell_type": "code",
   "execution_count": null,
   "metadata": {},
   "outputs": [],
   "source": [
    "\n",
    "\n",
    "for img_file in os.listdir('../data/valid/nevus'):\n",
    "    img_path = os.path.join('../data/valid/nevus/', img_file)"
   ]
  }
 ],
 "metadata": {
  "kernelspec": {
   "display_name": "Python 3",
   "language": "python",
   "name": "python3"
  },
  "language_info": {
   "codemirror_mode": {
    "name": "ipython",
    "version": 3
   },
   "file_extension": ".py",
   "mimetype": "text/x-python",
   "name": "python",
   "nbconvert_exporter": "python",
   "pygments_lexer": "ipython3",
   "version": "3.7.7"
  }
 },
 "nbformat": 4,
 "nbformat_minor": 4
}
